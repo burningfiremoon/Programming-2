{
 "cells": [
  {
   "cell_type": "markdown",
   "metadata": {},
   "source": [
    "# Unit 0 - What is Computing\n",
    "This is where your notes are going to go.  \n",
    "Get into the habit of filling this out while we're going through the lessons.\n",
    "\n",
    "Periodically, I'll be giving you notebook files to fill out. Sometimes you're going to be starting them off yourself.\n",
    "\n",
    "**These files are going to be foundational to your learning. Please give them the time that they require**"
   ]
  },
  {
   "cell_type": "markdown",
   "metadata": {},
   "source": [
    "You may wonder why we're using this and not Microsoft word.  \n",
    "The biggest reason is because this accepts Python.  \n",
    "\n",
    "For example:"
   ]
  },
  {
   "cell_type": "code",
   "execution_count": 7,
   "metadata": {
    "tags": []
   },
   "outputs": [
    {
     "name": "stdout",
     "output_type": "stream",
     "text": [
      "Hello World\n"
     ]
    }
   ],
   "source": [
    "print(\"Hello World\")"
   ]
  },
  {
   "cell_type": "markdown",
   "metadata": {},
   "source": [
    "The line above is a line of code in python. We can do Python in here."
   ]
  },
  {
   "cell_type": "markdown",
   "metadata": {},
   "source": [
    "--------"
   ]
  },
  {
   "cell_type": "markdown",
   "metadata": {},
   "source": [
    "## What are algorithms?"
   ]
  },
  {
   "cell_type": "markdown",
   "metadata": {},
   "source": [
    "It's a set of instructions we give to solve a problem."
   ]
  },
  {
   "cell_type": "code",
   "execution_count": 8,
   "metadata": {
    "tags": []
   },
   "outputs": [
    {
     "name": "stdout",
     "output_type": "stream",
     "text": [
      "Hello! I'm going to greet you.\n"
     ]
    },
    {
     "name": "stdin",
     "output_type": "stream",
     "text": [
      "What's your name? bob\n"
     ]
    },
    {
     "name": "stdout",
     "output_type": "stream",
     "text": [
      "Nice to meet you, bob.\n"
     ]
    }
   ],
   "source": [
    "# Greet the user\n",
    "print(\"Hello! I'm going to greet you.\")\n",
    "\n",
    "# Ask the user for their name\n",
    "name = input(\"What's your name?\") \n",
    "\n",
    "# Take the user's name and say hello\n",
    "print(f\"Nice to meet you, {name}.\")"
   ]
  },
  {
   "cell_type": "code",
   "execution_count": 1,
   "metadata": {},
   "outputs": [
    {
     "name": "stdout",
     "output_type": "stream",
     "text": [
      "Hi, I'm Greetings Bot nice to meet you\n"
     ]
    },
    {
     "name": "stdin",
     "output_type": "stream",
     "text": [
      "What's your name? bob\n"
     ]
    },
    {
     "name": "stdout",
     "output_type": "stream",
     "text": [
      "hi, bob, I'm happy to be talking to you.\n"
     ]
    },
    {
     "name": "stdin",
     "output_type": "stream",
     "text": [
      "What is your favourite food? Bob\n"
     ]
    },
    {
     "name": "stdout",
     "output_type": "stream",
     "text": [
      " Bob makes me hungry\n"
     ]
    }
   ],
   "source": [
    "# Get To Know You Bot\n",
    "\n",
    "# Greet the user\n",
    "print (\"Hi, I'm Greetings Bot nice to meet you\")\n",
    "# Ask the user for their name\n",
    "name = input(\"What's your name?\")\n",
    "# Respond\n",
    "print(f\"hi, {name}, I'm happy to be talking to you.\")\n",
    "# Ask for their faourite food\n",
    "FF = input(\"What is your favourite food?\")\n",
    "# Make a comment about their food\n",
    "print (f\" {FF} makes me hungry\")"
   ]
  },
  {
   "cell_type": "markdown",
   "metadata": {},
   "source": [
    "☝🏽 This is typically how notebook entries are going to look."
   ]
  },
  {
   "cell_type": "markdown",
   "metadata": {},
   "source": [
    "## Who's the first programmer?"
   ]
  },
  {
   "cell_type": "markdown",
   "metadata": {},
   "source": [
    "The first programmer's name is **Ada Lovelace**."
   ]
  }
 ],
 "metadata": {
  "kernelspec": {
   "display_name": "Python 3",
   "language": "python",
   "name": "python3"
  },
  "language_info": {
   "codemirror_mode": {
    "name": "ipython",
    "version": 3
   },
   "file_extension": ".py",
   "mimetype": "text/x-python",
   "name": "python",
   "nbconvert_exporter": "python",
   "pygments_lexer": "ipython3",
   "version": "3.9.1"
  }
 },
 "nbformat": 4,
 "nbformat_minor": 4
}
