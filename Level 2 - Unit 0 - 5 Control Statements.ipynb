{
 "cells": [
  {
   "cell_type": "markdown",
   "metadata": {},
   "source": [
    "# Control Statements\n",
    "\n",
    "![Hello!](https://media.giphy.com/media/ASd0Ukj0y3qMM/giphy.gif)"
   ]
  },
  {
   "cell_type": "markdown",
   "metadata": {},
   "source": [
    "# Skills\n",
    "* understand if statements\n",
    "* understand why we use elif instead of else in some cases"
   ]
  },
  {
   "cell_type": "markdown",
   "metadata": {},
   "source": [
    "## `if` statements\n",
    "We can branch code using contr\n",
    "ol statements.  \n",
    "We can do that using `if` statements.\n",
    "\n",
    "![Branching from https://programarcadegames.com](http://programarcadegames.com/chapters/03_if_statements/flowchart1_thumb.png)"
   ]
  },
  {
   "cell_type": "code",
   "execution_count": 1,
   "metadata": {
    "tags": []
   },
   "outputs": [
    {
     "name": "stdin",
     "output_type": "stream",
     "text": [
      "First Value:  10\n",
      "Second Value:  30\n"
     ]
    },
    {
     "name": "stdout",
     "output_type": "stream",
     "text": [
      "a is less than b\n"
     ]
    }
   ],
   "source": [
    "# ask the user for two values:\n",
    "# floats are decimal numbers\n",
    "# cast numbers as floats or ints\n",
    "a = float(input('First Value: '))\n",
    "b = float(input('Second Value: '))\n",
    "\n",
    "if a < b:\n",
    "    print(\"a is less than b\")\n",
    "if b < a:\n",
    "    print(\"b is less then a\")\n",
    "    print(\"done\")\n",
    "\n"
   ]
  },
  {
   "cell_type": "markdown",
   "metadata": {},
   "source": [
    "## `elif` and `else` "
   ]
  },
  {
   "cell_type": "code",
   "execution_count": 2,
   "metadata": {},
   "outputs": [
    {
     "name": "stdin",
     "output_type": "stream",
     "text": [
      "Enter a number:  10\n"
     ]
    },
    {
     "name": "stdout",
     "output_type": "stream",
     "text": [
      "x is less than or equal to 25\n"
     ]
    }
   ],
   "source": [
    "# get input from user\n",
    "x = float(input('Enter a number: '))\n",
    "\n",
    "if x > 100:\n",
    "    print(\"x is greater than 100\")\n",
    "elif x > 50:\n",
    "    print(\"x is greater than 50\")\n",
    "elif x > 25:\n",
    "    print(\"x is greater than 25\")\n",
    "else:\n",
    "    print(\"x is less than or equal to 25\")\n"
   ]
  },
  {
   "cell_type": "markdown",
   "metadata": {},
   "source": [
    "## Booleans\n",
    "\n",
    "**Booleans** are a _**datatype**_.  \n",
    "They are either `True` or `False` in Python.\n",
    "\n",
    "Note:  \n",
    "Know the distinction between `'True'` and `True`  \n",
    "and equally `'False'` and `False`"
   ]
  },
  {
   "cell_type": "markdown",
   "metadata": {},
   "source": [
    "### _Aside: Checking Data Types_\n",
    "\n",
    "If you want to check the type of data, use, the function `type()`."
   ]
  },
  {
   "cell_type": "code",
   "execution_count": 2,
   "metadata": {},
   "outputs": [
    {
     "data": {
      "text/plain": [
       "str"
      ]
     },
     "execution_count": 2,
     "metadata": {},
     "output_type": "execute_result"
    }
   ],
   "source": [
    "type(False)\n",
    "# type(\"False\")\n",
    "type(\"False\")"
   ]
  },
  {
   "cell_type": "code",
   "execution_count": 4,
   "metadata": {},
   "outputs": [],
   "source": [
    "# gotchas of if statements\n",
    "if None:\n",
    "    print(\"This will print out.\")\n",
    "    \n",
    "# Anything that is not:\n",
    "# 0\n",
    "# None\n",
    "# False\n",
    "# \"\" empty string\n",
    "# Is true\n"
   ]
  },
  {
   "cell_type": "markdown",
   "metadata": {},
   "source": [
    "## Boolean Expressions\n",
    "\n",
    "Boolean expressions are operations that evaluate to booleans."
   ]
  },
  {
   "cell_type": "code",
   "execution_count": null,
   "metadata": {},
   "outputs": [],
   "source": [
    "3 == 4 # bool returns True or False"
   ]
  },
  {
   "cell_type": "markdown",
   "metadata": {},
   "source": [
    "## Boolean Variables\n",
    "\n",
    "Variables can be booleans as well."
   ]
  },
  {
   "cell_type": "code",
   "execution_count": 6,
   "metadata": {},
   "outputs": [
    {
     "name": "stdout",
     "output_type": "stream",
     "text": [
      "lol\n"
     ]
    }
   ],
   "source": [
    "mrubial_is_cool = False\n",
    "if mrubial_is_cool:\n",
    "    print(\"He's so cool.\")\n",
    "else:\n",
    "    print(\"lol\")"
   ]
  },
  {
   "cell_type": "markdown",
   "metadata": {},
   "source": [
    "## Boolean Operators\n",
    "\n",
    "### Using `not`\n",
    "`not` is a unary operator  \n",
    "You only need **one operand**."
   ]
  },
  {
   "cell_type": "code",
   "execution_count": 7,
   "metadata": {},
   "outputs": [
    {
     "name": "stdout",
     "output_type": "stream",
     "text": [
      "lulz.\n"
     ]
    }
   ],
   "source": [
    "mr_ubial_is_cool = False\n",
    "\n",
    "if not mr_ubial_is_cool:\n",
    "    print(\"lulz.\")"
   ]
  },
  {
   "cell_type": "code",
   "execution_count": 8,
   "metadata": {},
   "outputs": [
    {
     "name": "stdout",
     "output_type": "stream",
     "text": [
      "You will probably want an umbrella.\n"
     ]
    }
   ],
   "source": [
    "sunny = False\n",
    "\n",
    "if not sunny:\n",
    "    print(\"You will probably want an umbrella.\")"
   ]
  },
  {
   "cell_type": "markdown",
   "metadata": {},
   "source": [
    "### Using `and` and `or`\n",
    "`and` and `or` are binary operators.  \n",
    "You need **two operands** to use them."
   ]
  },
  {
   "cell_type": "code",
   "execution_count": 10,
   "metadata": {},
   "outputs": [
    {
     "name": "stdout",
     "output_type": "stream",
     "text": [
      "Mr. Ubal is not a happy man.\n"
     ]
    }
   ],
   "source": [
    "likes_to_god_of_war = True\n",
    "has_ps5 = False\n",
    "\n",
    "# and needs to have both sides True\n",
    "# For the whole expression to be true\n",
    "if likes_to_god_of_war and has_ps5:\n",
    "    print(\"Mr. Ubial is happy.\")\n",
    "else:\n",
    "    print (\"Mr. Ubal is not a happy man.\")"
   ]
  },
  {
   "cell_type": "code",
   "execution_count": 12,
   "metadata": {},
   "outputs": [
    {
     "name": "stdout",
     "output_type": "stream",
     "text": [
      "You're ready to fight.\n"
     ]
    }
   ],
   "source": [
    "have_axe = True\n",
    "have_bow = False\n",
    "\n",
    "# with or, at least one of the operands\n",
    "# needs to be True in order for the whole\n",
    "# expression to be True\n",
    "if have_axe or have_bow:\n",
    "    print(\"You're ready to fight.\")\n",
    "else:\n",
    "    print(\"You should probably be more prepared.\")"
   ]
  },
  {
   "cell_type": "markdown",
   "metadata": {},
   "source": [
    "---\n",
    "# Practice Questions"
   ]
  },
  {
   "cell_type": "markdown",
   "metadata": {},
   "source": [
    "## 1. What's missing from this code?"
   ]
  },
  {
   "cell_type": "code",
   "execution_count": 13,
   "metadata": {},
   "outputs": [
    {
     "name": "stdin",
     "output_type": "stream",
     "text": [
      "Temperature:  91\n"
     ]
    },
    {
     "name": "stdout",
     "output_type": "stream",
     "text": [
      "It is hot outside.\n"
     ]
    }
   ],
   "source": [
    "\n",
    "# the input has to be casted to be an integer\n",
    "temperature = int(input(f'Temperature: '))\n",
    "if temperature > 90:\n",
    "    print(f'It is hot outside.')\n",
    "else:\n",
    "    print(f'It is not hot out.')"
   ]
  },
  {
   "cell_type": "markdown",
   "metadata": {},
   "source": [
    "## 2. What do you think this next code will print out?\n",
    "**Before you run the code,** take your best guess as to what it will print out.  \n",
    "Put your guess here:  "
   ]
  },
  {
   "cell_type": "code",
   "execution_count": 14,
   "metadata": {},
   "outputs": [
    {
     "name": "stdout",
     "output_type": "stream",
     "text": [
      "x=5\n",
      "y=False\n",
      "z=True\n",
      "Buzz\n"
     ]
    }
   ],
   "source": [
    "x = 5\n",
    "y = x == 6\n",
    "z = x == 5\n",
    "print(f'x={x}') # 5  \n",
    "print(f'y={y}') # False\n",
    "print(f'z={z}') # True\n",
    "if y:\n",
    "    print(f'Fizz') \n",
    "if z:\n",
    "    print(f'Buzz')\n",
    "    \n",
    "# It is going to print Buzz because z is True and y is False"
   ]
  },
  {
   "cell_type": "markdown",
   "metadata": {},
   "source": [
    "## 3. What do you think this code will print out?\n",
    "Again, **take an educated guess before running the code.**  \n",
    "Put your answers in inline comments beside the line of code.  \n",
    "There's an example below.\n",
    "If you're guess isn't right, try and figure out why it outputs what it does."
   ]
  },
  {
   "cell_type": "code",
   "execution_count": null,
   "metadata": {},
   "outputs": [],
   "source": [
    "print(\"3\" == \"3\")           \n",
    "print(\" 3\" == \"3\")          \n",
    "print(3 < 4)                \n",
    "print(3 < 10)               \n",
    "print(\"3\" < \"4\")            \n",
    "print(\"3\" < \"10\")           \n",
    "print( (2 == 2) == \"True\" )\n",
    "print( (2 == 2) == True )   \n",
    "print(3 < \"3\")              "
   ]
  },
  {
   "cell_type": "markdown",
   "metadata": {},
   "source": [
    "---\n",
    "# Exercise\n",
    "\n",
    "Create your own quiz with five or more questions. You can ask questions that require:\n",
    "1. a number as an answer (e.g., What is 1+1?)\n",
    "2. text (e.g. What is Harry Potter's last name?)\n",
    "3. a selection (Which of these choices are correct? A, B, or C?) \n",
    "\n",
    "If you have the user enter non-numeric answers, think and cover the different ways a user could enter a correct answer. For example, if the answer is “a”, would “A” also be acceptable? \n",
    "1. Let the user know if he or she gets the question correct. Print a message depending on the user's answer.\n",
    "2. You need to keep track of how many questions they get correct.\n",
    "3. At the end of the program print the percentage of questions the user gets right. "
   ]
  },
  {
   "cell_type": "markdown",
   "metadata": {},
   "source": [
    "# Requirements\n",
    "Create a new Python file.\n",
    "\n",
    "* Has five or more questions \n",
    "* Give the user feedback per question \n",
    "* Keep track of correct answers\n",
    "* Give them their outcome at the end\n",
    "* Should follow *style guidelines* for naming of variables and use of whitespace -- **READABILITY**"
   ]
  },
  {
   "cell_type": "code",
   "execution_count": 1,
   "metadata": {},
   "outputs": [
    {
     "name": "stdout",
     "output_type": "stream",
     "text": [
      "Hi je suis cinq questions bot\n",
      "\n",
      "\n"
     ]
    },
    {
     "name": "stdin",
     "output_type": "stream",
     "text": [
      "to start the questions type start\n",
      " start\n",
      "\n",
      "\n",
      "What is 1 + 1?\n",
      " 2\n"
     ]
    },
    {
     "name": "stdout",
     "output_type": "stream",
     "text": [
      "Correct!!\n"
     ]
    },
    {
     "name": "stdin",
     "output_type": "stream",
     "text": [
      "\n",
      "What is 2^2?\n",
      " 4\n"
     ]
    },
    {
     "name": "stdout",
     "output_type": "stream",
     "text": [
      "Correct!!\n"
     ]
    },
    {
     "name": "stdin",
     "output_type": "stream",
     "text": [
      "\n",
      "What is Obama's last name?\n",
      " care\n"
     ]
    },
    {
     "name": "stdout",
     "output_type": "stream",
     "text": [
      "Congrats you get an extra point\n"
     ]
    },
    {
     "name": "stdin",
     "output_type": "stream",
     "text": [
      "\n",
      "What is 9 + 10?\n",
      " 21\n"
     ]
    },
    {
     "name": "stdout",
     "output_type": "stream",
     "text": [
      "Congrates you get an extra point\n"
     ]
    },
    {
     "name": "stdin",
     "output_type": "stream",
     "text": [
      "\n",
      "is 21 the answer to life?\n",
      " yes\n"
     ]
    },
    {
     "name": "stdout",
     "output_type": "stream",
     "text": [
      "Correct!!\n",
      "\n",
      "\n",
      " Your final score is 7/5\n",
      "\n",
      "...goodbye\n"
     ]
    }
   ],
   "source": [
    "# Extras\n",
    "started = False\n",
    "# Intro\n",
    "print(\"Hi je suis cinq questions bot\\n\\n\")\n",
    "while started == False:\n",
    "  mark = 0\n",
    "\n",
    "  start = input(\"to start the questions type start\\n\")\n",
    "  if start.lower().strip(\"!@#$%^&*()\") == \"start\":\n",
    "   started = True\n",
    "  else:\n",
    "    print(\"...\\n\\n\")\n",
    "\n",
    "# 5 questions\n",
    "Q1 = int(input(\"\\n\\nWhat is 1 + 1?\\n\"))\n",
    "if Q1 == 2:\n",
    "  print(\"Correct!!\")\n",
    "  mark += 1\n",
    "else:\n",
    "  print(\"nah you're wrong\")\n",
    "\n",
    "Q2 = int(input(\"\\nWhat is 2^2?\\n\"))\n",
    "if Q2 == 4:\n",
    "  print(\"Correct!!\")\n",
    "  mark += 1\n",
    "else:\n",
    "  print(\"nah you're wrong\")\n",
    "Q3 = input(\"\\nWhat is Obama's last name?\\n\").strip(\"!@#$%^&*()_+-=:\").lower()\n",
    "if Q3 == \"obama\":\n",
    "  print(\"Correct!!\")\n",
    "  mark += 1\n",
    "elif Q3 == \"care\":\n",
    "  mark += 2\n",
    "  print(\"Congrats you get an extra point\")\n",
    "else:\n",
    "  print(\"nah you're wrong\")\n",
    "Q4 = int(input(\"\\nWhat is 9 + 10?\\n\"))\n",
    "if Q4 == 19:\n",
    "  print(\"Correct!!\")\n",
    "  mark += 1\n",
    "elif Q4 == 21:\n",
    "  mark += 2\n",
    "  print(\"Congrates you get an extra point\")\n",
    "else:\n",
    "  print(\"nah you're wrong\")\n",
    "Q5 = input(\"\\nis 21 the answer to life?\\n\").strip(\"!@#$%^&*()_+-=\").lower()\n",
    "if Q5 == \"yes\":\n",
    "  print(\"Correct!!\")\n",
    "  mark += 1\n",
    "else:\n",
    "  print(\"nah you're wrong\")\n",
    "\n",
    "# Final Score\n",
    "print(f\"\\n\\n Your final score is {mark}/5\")\n",
    "\n",
    "# Goodbye message \n",
    "print(\"\\n...goodbye\")"
   ]
  }
 ],
 "metadata": {
  "kernelspec": {
   "display_name": "Python 3",
   "language": "python",
   "name": "python3"
  },
  "language_info": {
   "codemirror_mode": {
    "name": "ipython",
    "version": 3
   },
   "file_extension": ".py",
   "mimetype": "text/x-python",
   "name": "python",
   "nbconvert_exporter": "python",
   "pygments_lexer": "ipython3",
   "version": "3.8.2"
  }
 },
 "nbformat": 4,
 "nbformat_minor": 4
}
