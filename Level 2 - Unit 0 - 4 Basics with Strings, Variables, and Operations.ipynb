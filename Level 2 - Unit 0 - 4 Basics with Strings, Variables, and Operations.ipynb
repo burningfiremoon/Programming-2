{
 "cells": [
  {
   "cell_type": "markdown",
   "metadata": {},
   "source": [
    "# Unit 0.4 - Basics"
   ]
  },
  {
   "cell_type": "markdown",
   "metadata": {},
   "source": [
    "## We're going to do review"
   ]
  },
  {
   "cell_type": "markdown",
   "metadata": {},
   "source": [
    "# Strings and f-strings\n",
    "## What does f stand for?\n",
    "\n",
    "F stands for **fast**."
   ]
  },
  {
   "cell_type": "code",
   "execution_count": 4,
   "metadata": {},
   "outputs": [
    {
     "name": "stdout",
     "output_type": "stream",
     "text": [
      "The quick brown fox jumps over the lazy dog.\n",
      "2\n"
     ]
    }
   ],
   "source": [
    "print(f\"The quick brown fox jumps over the lazy dog.\")\n",
    "print(f\"{1+1}\")"
   ]
  },
  {
   "cell_type": "markdown",
   "metadata": {},
   "source": [
    "## String Slices\n",
    "\n",
    "It's like taking pieces of strings out."
   ]
  },
  {
   "cell_type": "code",
   "execution_count": 5,
   "metadata": {},
   "outputs": [
    {
     "name": "stdout",
     "output_type": "stream",
     "text": [
      "Jan\n"
     ]
    }
   ],
   "source": [
    "#.       0123456\n",
    "month = \"January\"\n",
    "abbreviation = month[0:3]\n",
    "print(abbreviation)"
   ]
  },
  {
   "cell_type": "code",
   "execution_count": 6,
   "metadata": {},
   "outputs": [
    {
     "name": "stdout",
     "output_type": "stream",
     "text": [
      "Aug\n",
      "gust\n"
     ]
    }
   ],
   "source": [
    "# [start:stop]\n",
    "month = \"August\"\n",
    "first_part = month [:3]\n",
    "print (first_part)\n",
    "last_part = month [2:]\n",
    "print(last_part)"
   ]
  },
  {
   "cell_type": "code",
   "execution_count": 9,
   "metadata": {},
   "outputs": [
    {
     "name": "stdout",
     "output_type": "stream",
     "text": [
      "13579\n",
      "2468\n"
     ]
    }
   ],
   "source": [
    "# [start:stop:step]\n",
    "number = \"123456789\"\n",
    "odd = number[::2]\n",
    "even = number[1::2]\n",
    "print(odd)\n",
    "print(even)"
   ]
  },
  {
   "cell_type": "code",
   "execution_count": 12,
   "metadata": {},
   "outputs": [
    {
     "name": "stdout",
     "output_type": "stream",
     "text": [
      "9\n",
      "8\n",
      "987654321\n"
     ]
    }
   ],
   "source": [
    "# can give negative indices (location)\n",
    "numbers = \"123456789\"\n",
    "last_num = number[-1]\n",
    "second_last_number = number[-2]\n",
    "print(last_num)\n",
    "print(second_last_number)\n",
    "print(numbers[::-1])"
   ]
  },
  {
   "cell_type": "markdown",
   "metadata": {},
   "source": [
    "## Operations in f-strings\n",
    "We use {} or **braces** to evaluate expressions inside of f-strings.\n",
    "\n",
    "### Using the Math Module\n",
    "We can import the Math module to help us calculate things\n",
    "\n",
    "https://docs.python.org/3/library/math.html\n"
   ]
  },
  {
   "cell_type": "code",
   "execution_count": 7,
   "metadata": {},
   "outputs": [
    {
     "name": "stdout",
     "output_type": "stream",
     "text": [
      "0.0\n",
      "The GCD of 10 and 688 is 2\n"
     ]
    }
   ],
   "source": [
    "# print(1 + 1)\n",
    "\n",
    "import math\n",
    "print(math.sin(0))\n",
    "print(f\"The GCD of 10 and 688 is {math.gcd(10, 688)}\")"
   ]
  },
  {
   "cell_type": "markdown",
   "metadata": {},
   "source": [
    "## Escape Sequences\n",
    "\n",
    "Sequence of characters that have a meaning besides the literal charcters"
   ]
  },
  {
   "cell_type": "code",
   "execution_count": 15,
   "metadata": {},
   "outputs": [
    {
     "name": "stdout",
     "output_type": "stream",
     "text": [
      "one line.\n",
      "Second line.\n",
      "one\ttwo\tthree\n",
      "a\tb\tc\tc\t\n",
      "The boy said, \"blee bloo blee\"\n"
     ]
    }
   ],
   "source": [
    "# \\n - newline\n",
    "print(\"one line.\\nSecond line.\")\n",
    "# \\t - tab\n",
    "print(\"one\\ttwo\\tthree\")\n",
    "print(\"a\\tb\\tc\\tc\\t\")\n",
    "# \\\" - inserts a literal double quote\n",
    "print(\"The boy said, \\\"blee bloo blee\\\"\")"
   ]
  },
  {
   "cell_type": "code",
   "execution_count": 17,
   "metadata": {},
   "outputs": [
    {
     "name": "stdout",
     "output_type": "stream",
     "text": [
      "First line.\n",
      "Second line.\n",
      "\n",
      "\n",
      "Fifth line.\n"
     ]
    }
   ],
   "source": [
    "# Triple Quote Strings\n",
    "print(\"\"\"First line.\n",
    "Second line.\n",
    "\n",
    "\n",
    "Fifth line.\"\"\")"
   ]
  },
  {
   "cell_type": "markdown",
   "metadata": {},
   "source": [
    "# Variables"
   ]
  },
  {
   "cell_type": "markdown",
   "metadata": {},
   "source": [
    "`=` -- assignment operator"
   ]
  },
  {
   "cell_type": "code",
   "execution_count": 18,
   "metadata": {},
   "outputs": [],
   "source": [
    "message = \"Your time is up.\"\n",
    "\n",
    "# How do you properly name variables\n",
    "name = \"Charlie\"\n",
    "Age = 2\n",
    "Age = 2 # you could but it makes you look dumb\n",
    "\n",
    "# If you need a space, us an underscore\n",
    "date_of_birth = \"January 2, 2020\"\n",
    "dateOfBirth = \"January 2\" # lower camel case- JAVA\n",
    "dob = \"January 2\"\n",
    "\n",
    "# Constants should be in ALL CAPS\n",
    "SCREEN_SIZE_MAX = (1024, 768)\n",
    "\n",
    "# You can use numbers in names\n",
    "number_of_2s = 72"
   ]
  },
  {
   "cell_type": "markdown",
   "metadata": {},
   "source": [
    "## Reassignment\n",
    "\n",
    "Give an existing variable a new value."
   ]
  },
  {
   "cell_type": "code",
   "execution_count": 20,
   "metadata": {},
   "outputs": [
    {
     "name": "stdout",
     "output_type": "stream",
     "text": [
      "Bruce\n",
      "Phoebe\n"
     ]
    }
   ],
   "source": [
    "# Reassignment\n",
    "persons_name = \"Bruce\"\n",
    "print(persons_name)\n",
    "persons_name = \"Phoebe\"\n",
    "print(persons_name)"
   ]
  },
  {
   "cell_type": "code",
   "execution_count": 21,
   "metadata": {},
   "outputs": [
    {
     "name": "stdout",
     "output_type": "stream",
     "text": [
      "5\n",
      "10\n",
      "5\n"
     ]
    }
   ],
   "source": [
    "# Assigning a variable to another variable\n",
    "a = 5\n",
    "b = a #5\n",
    "print(b)\n",
    "a = 10\n",
    "print(a)\n",
    "print(b)"
   ]
  },
  {
   "cell_type": "markdown",
   "metadata": {},
   "source": [
    "## Updating Variables\n",
    "\n",
    "Updating the value of a variable"
   ]
  },
  {
   "cell_type": "code",
   "execution_count": 23,
   "metadata": {},
   "outputs": [
    {
     "name": "stdout",
     "output_type": "stream",
     "text": [
      "0\n",
      "1\n",
      "2\n",
      "1\n",
      "2\n",
      "0.6666666666666666\n"
     ]
    }
   ],
   "source": [
    "counter = 0\n",
    "print(counter)\n",
    "counter = counter + 1 # increases counter by 1\n",
    "print(counter)\n",
    "\n",
    "# increment, decrement, multiplication, and division\n",
    "counter += 1\n",
    "print(counter)\n",
    "counter -= 1\n",
    "print(counter)\n",
    "counter *= 2\n",
    "print(counter)\n",
    "counter /= 3\n",
    "print(counter)"
   ]
  },
  {
   "cell_type": "markdown",
   "metadata": {},
   "source": [
    "## Datatypes\n",
    "### What are some datatypes that we've seen?"
   ]
  },
  {
   "cell_type": "code",
   "execution_count": 26,
   "metadata": {},
   "outputs": [
    {
     "name": "stdout",
     "output_type": "stream",
     "text": [
      "Proramming 2\n"
     ]
    }
   ],
   "source": [
    "# String\n",
    "\"Tim\"\n",
    "# f-strings\n",
    "f\"Ubial\"\n",
    "\n",
    "\n",
    "# OTHER DATATYPES\n",
    "12.             # number -> integer (whole)\n",
    "12.                # number -> float\n",
    "True\n",
    "False           # boolean values\n",
    "[1, 2, 3,]\n",
    "[\"1\", \"2\", \"3\"]                # list\n",
    "[1, \"2\", 3.0]\n",
    "{\"name\": \"Tim\"}                # dictionary (like a list)\n",
    "\n",
    "# e.g.\n",
    "student = {\n",
    "    \"name\": \"Paul\",\n",
    "    \"student number\": 123456,\n",
    "    \"a-block\": \"Proramming 2\",\n",
    "    \"b-block\": \"Basketweaving 12\"\n",
    "    \n",
    "}\n",
    "print(student[\"a-block\"])"
   ]
  },
  {
   "cell_type": "markdown",
   "metadata": {},
   "source": [
    "### Casting\n",
    "What do we do to force Python to look at a string like it's a number?"
   ]
  },
  {
   "cell_type": "code",
   "execution_count": 28,
   "metadata": {},
   "outputs": [
    {
     "name": "stdout",
     "output_type": "stream",
     "text": [
      "21\n"
     ]
    }
   ],
   "source": [
    "age = \"16\"\n",
    "# add 5 to the age\n",
    "\n",
    "\n",
    "# use a cast to force a value into another type\n",
    "new_age = int(age) + 5\n",
    "print (new_age)"
   ]
  },
  {
   "cell_type": "code",
   "execution_count": 32,
   "metadata": {},
   "outputs": [
    {
     "data": {
      "text/plain": [
       "float"
      ]
     },
     "execution_count": 32,
     "metadata": {},
     "output_type": "execute_result"
    }
   ],
   "source": [
    "# type() function\n",
    "type(2.) # will give type float\n",
    "# used to figure what type something is"
   ]
  },
  {
   "cell_type": "markdown",
   "metadata": {},
   "source": [
    "# Statements and Expressions\n",
    "\n",
    "A **statement** is an instruction that Python can execute.  \n",
    "> Assignment (when we assign a value to a variable) is  \n",
    "a **statement**.\n",
    "\n",
    "> e.g. `date_of_birth = \"January 22\"`\n",
    "\n",
    "An **expression** is a statement that MUST BE EVALUATED.\n",
    "> e.g. `date_of_birth_and_year = date_of_birth + \" 2020\"`"
   ]
  },
  {
   "cell_type": "markdown",
   "metadata": {},
   "source": [
    "# Order of Operations\n",
    "\n",
    "BEDMAS\n",
    "1. Brackets\n",
    "2. Exponents\n",
    "3. Division and Multiplication\n",
    "4. The rest\n",
    "\n",
    "Evaluates from left-to-right (left-associative)"
   ]
  },
  {
   "cell_type": "code",
   "execution_count": null,
   "metadata": {},
   "outputs": [],
   "source": [
    "# E.g."
   ]
  },
  {
   "cell_type": "code",
   "execution_count": 33,
   "metadata": {},
   "outputs": [
    {
     "name": "stdout",
     "output_type": "stream",
     "text": [
      "256\n",
      "1\n",
      "3\n",
      "2\n",
      "1\n"
     ]
    }
   ],
   "source": [
    "# Other Operators\n",
    "\n",
    "# Exponents **\n",
    "value = 2 ** 8\n",
    "print(value)\n",
    "\n",
    "\n",
    "# Floor division // (gives the result in an int)\n",
    "value_b = 8 // 5 # will round down\n",
    "print (value_b)\n",
    "\n",
    "\n",
    "# Find the remainder % Modulo\n",
    "value_c = 8 % 5\n",
    "print(value_c)\n",
    "\n",
    "\n",
    "# e.g. use of Modulo -- calculating if something is divisible\n",
    "# check if 189947 is divisible by 7\n",
    "value_d = 189947 % 7\n",
    "print(value_d) # 2 -> not divisible\n",
    "value = 189947 % 2\n",
    "print(value) # 0 -> even 1 -> odd\n"
   ]
  },
  {
   "cell_type": "markdown",
   "metadata": {},
   "source": [
    "## Input\n",
    "### How do we get input from a user?"
   ]
  },
  {
   "cell_type": "code",
   "execution_count": 34,
   "metadata": {},
   "outputs": [
    {
     "name": "stdin",
     "output_type": "stream",
     "text": [
      "What's your name?  bob\n"
     ]
    },
    {
     "name": "stdout",
     "output_type": "stream",
     "text": [
      "Hello, bob!\n"
     ]
    }
   ],
   "source": [
    "# Use the input() function\n",
    "\n",
    "name = input(\"What's your name? \")\n",
    "print (f\"Hello, {name}!\")"
   ]
  },
  {
   "cell_type": "markdown",
   "metadata": {},
   "source": [
    "---\n",
    "---\n",
    "# Practice\n",
    "Take some time to work through the examples below for practice."
   ]
  },
  {
   "cell_type": "markdown",
   "metadata": {},
   "source": [
    "## Fahrenheit to Celsius\n",
    "Create a program that asks the user for a temperature in Fahrenheit, and then prints the temperature in Celsius.\n",
    "\n",
    "The formula for conversion is:  \n",
    "`C = (F − 32) × 5/9 `"
   ]
  },
  {
   "cell_type": "code",
   "execution_count": 39,
   "metadata": {},
   "outputs": [
    {
     "name": "stdin",
     "output_type": "stream",
     "text": [
      "hey buddy enter temp in fahrenheit 30\n"
     ]
    },
    {
     "name": "stdout",
     "output_type": "stream",
     "text": [
      "Here's your temp in celsius -1.1111111111111112\n"
     ]
    }
   ],
   "source": [
    "f = input(\"hey buddy enter temp in fahrenheit\")\n",
    "c = (int(f)-32)* 5/9\n",
    "print(f\"Here's your temp in celsius {c}\")\n"
   ]
  },
  {
   "cell_type": "markdown",
   "metadata": {},
   "source": [
    "## Radius of Circle\n",
    "\n",
    "Create a program that takes the radius of a circle and calculates its area.\n",
    "\n",
    "The formula to calculate the area is:  \n",
    "`A = pi * r ^ 2`  \n",
    "\n",
    "Note:  \n",
    "In order to use pi, **import the math module**.  \n",
    "It has the constant, pi, that you can use.\n",
    "You can use it by using `math.pi`."
   ]
  },
  {
   "cell_type": "code",
   "execution_count": 42,
   "metadata": {},
   "outputs": [
    {
     "name": "stdin",
     "output_type": "stream",
     "text": [
      "gimme radius now for circle 30\n"
     ]
    },
    {
     "name": "stdout",
     "output_type": "stream",
     "text": [
      "The area of the circle with a radius of 30 is 2827.4333882308138\n"
     ]
    }
   ],
   "source": [
    "import math\n",
    "r = input(\"gimme radius now for circle\")\n",
    "A = math.pi * int(r) ** 2\n",
    "print(f\"The area of the circle with a radius of {r} is {A}\")"
   ]
  },
  {
   "cell_type": "markdown",
   "metadata": {},
   "source": [
    "## Compound Interest\n",
    "\n",
    "![Compound Interest](http://www.ourpursuitofperfection.com/wp-content/uploads/2017/06/compound-interest-formula-diagram.png)\n",
    "\n",
    "Write a Python program that has a **principal amount of 15000**, **compounds monthly** (n = 12), and has an **interest rate of 8%** (0.08). Then have the program ask the user for the number of years, t. Calculate and print the final amount after t years."
   ]
  },
  {
   "cell_type": "code",
   "execution_count": 47,
   "metadata": {},
   "outputs": [
    {
     "name": "stdin",
     "output_type": "stream",
     "text": [
      "Give me the number of years for your compound interest 10\n"
     ]
    },
    {
     "name": "stdout",
     "output_type": "stream",
     "text": [
      "The final amount is 162449.92602112648 after 10 years\n"
     ]
    }
   ],
   "source": [
    "# Asking for time in years\n",
    "t = input(\"Give me the number of years for your compound interest\")\n",
    "\n",
    "# Compound Formula\n",
    "principal = 15000.\n",
    "r = 0.08\n",
    "n = 12.\n",
    "\n",
    "amount = principal * (1 + r/n) ** n * float(t)\n",
    "\n",
    "# The reply\n",
    "print (f\"The final amount is {amount} after {t} years\")\n"
   ]
  },
  {
   "cell_type": "markdown",
   "metadata": {},
   "source": [
    "## Unit 0 - Additional Questions\n",
    "\n",
    "#### Celsius to Fahrenheit\n",
    "#### Write a program that will convert degrees Celsius to degrees Fahrenheit.\n",
    "\n"
   ]
  },
  {
   "cell_type": "code",
   "execution_count": 4,
   "metadata": {},
   "outputs": [
    {
     "name": "stdout",
     "output_type": "stream",
     "text": [
      "This is Celsius to Fahrenheit bot\n"
     ]
    },
    {
     "name": "stdin",
     "output_type": "stream",
     "text": [
      "Enter Celsius 3\n"
     ]
    },
    {
     "name": "stdout",
     "output_type": "stream",
     "text": [
      "3 celsius in fahrenheit is 37.4\n"
     ]
    }
   ],
   "source": [
    "print(\"This is Celsius to Fahrenheit bot\")\n",
    "a = input(\"Enter Celsius\")\n",
    "aa = (int(a)/5)*9+32\n",
    "print(f\"{a} celsius in fahrenheit is {aa}\")"
   ]
  },
  {
   "cell_type": "markdown",
   "metadata": {},
   "source": [
    "Problem: In Europe, time is generally told using the 24h clock (e.g. 11:00 is 11:00am and 23:00 is 11:00pm, 00:00 is midnight). Using this standard of time, if it is 13:00 and you set your alarm to go off in 50 hours, it will be 15:00 (3:00pm).\n",
    "\n",
    "Write a Python program in the code cell below to solve the general version of the above problem.  \n",
    "Ask the user for the time now (in hours), and then ask for the number of hours to wait for the alarm.  \n",
    "Your program should output what the time will be on the clock when the alarm goes off."
   ]
  },
  {
   "cell_type": "code",
   "execution_count": 15,
   "metadata": {},
   "outputs": [
    {
     "name": "stdin",
     "output_type": "stream",
     "text": [
      "time right now? 11\n",
      "how many hours later for your alarm to go off 50\n"
     ]
    },
    {
     "name": "stdout",
     "output_type": "stream",
     "text": [
      "your alarm will go off at 13:00\n"
     ]
    }
   ],
   "source": [
    " # ask input\n",
    "a = int(input(\"time right now?\"))\n",
    "aa = int(input(\"how many hours later for your alarm to go off\"))\n",
    "\n",
    "# do the math\n",
    "a += aa\n",
    "a = a % 24\n",
    "\n",
    "# Give output\n",
    "print(f\"your alarm will go off at {a}:00\")\n"
   ]
  },
  {
   "cell_type": "markdown",
   "metadata": {},
   "source": [
    "## Compound Interest Formula"
   ]
  },
  {
   "cell_type": "code",
   "execution_count": 14,
   "metadata": {},
   "outputs": [
    {
     "name": "stdin",
     "output_type": "stream",
     "text": [
      "Give me the number of years for your compound interest 30\n"
     ]
    },
    {
     "name": "stdout",
     "output_type": "stream",
     "text": [
      "The final amount is 487349.7780633794 after 30 years\n"
     ]
    }
   ],
   "source": [
    "# Asking for time in years\n",
    "t = input(\"Give me the number of years for your compound interest\")\n",
    "\n",
    "# Compound Formula\n",
    "principal = 15000.\n",
    "r = 0.08\n",
    "n = 12.\n",
    "\n",
    "amount = principal * (1 + r/n) ** n * float(t)\n",
    "\n",
    "# The reply\n",
    "print (f\"The final amount is {amount} after {t} years\")"
   ]
  },
  {
   "cell_type": "code",
   "execution_count": 16,
   "metadata": {},
   "outputs": [],
   "source": [
    "# Prime number basic equation\n",
    "def primep_finder():\n",
    "    if num > 1:\n",
    "        for i in range(2,num):\n",
    "            if (num % i) == 0:\n",
    "                print(i, \"times\",num//i,\"is\",num)\n",
    "num = int(input(\"number\"))"
   ]
  },
  {
   "cell_type": "code",
   "execution_count": null,
   "metadata": {},
   "outputs": [],
   "source": []
  }
 ],
 "metadata": {
  "kernelspec": {
   "display_name": "Python 3",
   "language": "python",
   "name": "python3"
  },
  "language_info": {
   "codemirror_mode": {
    "name": "ipython",
    "version": 3
   },
   "file_extension": ".py",
   "mimetype": "text/x-python",
   "name": "python",
   "nbconvert_exporter": "python",
   "pygments_lexer": "ipython3",
   "version": "3.9.1"
  }
 },
 "nbformat": 4,
 "nbformat_minor": 4
}
